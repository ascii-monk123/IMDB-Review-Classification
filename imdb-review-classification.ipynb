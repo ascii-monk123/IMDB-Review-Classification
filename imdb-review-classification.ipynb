{
 "cells": [
  {
   "cell_type": "code",
   "execution_count": 1,
   "id": "00ef1bdb",
   "metadata": {
    "_cell_guid": "b1076dfc-b9ad-4769-8c92-a6c4dae69d19",
    "_uuid": "8f2839f25d086af736a60e9eeb907d3b93b6e0e5",
    "execution": {
     "iopub.execute_input": "2021-12-10T17:49:58.663502Z",
     "iopub.status.busy": "2021-12-10T17:49:58.662281Z",
     "iopub.status.idle": "2021-12-10T17:50:00.475253Z",
     "shell.execute_reply": "2021-12-10T17:50:00.474436Z",
     "shell.execute_reply.started": "2021-12-10T17:47:26.332183Z"
    },
    "papermill": {
     "duration": 1.840009,
     "end_time": "2021-12-10T17:50:00.475433",
     "exception": false,
     "start_time": "2021-12-10T17:49:58.635424",
     "status": "completed"
    },
    "tags": []
   },
   "outputs": [],
   "source": [
    "#system libraries\n",
    "import os\n",
    "import string\n",
    "#linear algebra\n",
    "import numpy as np\n",
    "import pandas as pd\n",
    "#plotting\n",
    "import seaborn as sns\n",
    "import matplotlib.pyplot as plt\n",
    "#machine learning and nlp\n",
    "from sklearn.naive_bayes import MultinomialNB\n",
    "from sklearn.feature_extraction.text import CountVectorizer\n",
    "from nltk.tokenize import sent_tokenize,word_tokenize, RegexpTokenizer\n",
    "from nltk.stem import PorterStemmer\n",
    "from nltk.corpus import stopwords\n",
    "from sklearn.model_selection import train_test_split\n",
    "from sklearn.utils import shuffle\n",
    "#performance\n",
    "from sklearn.metrics import classification_report,accuracy_score, confusion_matrix, roc_auc_score, roc_curve, auc\n"
   ]
  },
  {
   "cell_type": "markdown",
   "id": "15e169b4",
   "metadata": {
    "papermill": {
     "duration": 0.022855,
     "end_time": "2021-12-10T17:50:00.521141",
     "exception": false,
     "start_time": "2021-12-10T17:50:00.498286",
     "status": "completed"
    },
    "tags": []
   },
   "source": [
    "<h2> Load Data </h2>"
   ]
  },
  {
   "cell_type": "code",
   "execution_count": 2,
   "id": "5c99e0e3",
   "metadata": {
    "execution": {
     "iopub.execute_input": "2021-12-10T17:50:00.569164Z",
     "iopub.status.busy": "2021-12-10T17:50:00.568507Z",
     "iopub.status.idle": "2021-12-10T17:50:21.604472Z",
     "shell.execute_reply": "2021-12-10T17:50:21.604968Z",
     "shell.execute_reply.started": "2021-12-10T17:04:45.497404Z"
    },
    "papermill": {
     "duration": 21.062776,
     "end_time": "2021-12-10T17:50:21.605170",
     "exception": false,
     "start_time": "2021-12-10T17:50:00.542394",
     "status": "completed"
    },
    "tags": []
   },
   "outputs": [],
   "source": [
    "df = pd.read_csv(\"./train2.csv\")"
   ]
  },
  {
   "cell_type": "code",
   "execution_count": 3,
   "id": "9359d310",
   "metadata": {
    "execution": {
     "iopub.execute_input": "2021-12-10T17:50:21.652507Z",
     "iopub.status.busy": "2021-12-10T17:50:21.651527Z",
     "iopub.status.idle": "2021-12-10T17:50:21.688147Z",
     "shell.execute_reply": "2021-12-10T17:50:21.688659Z",
     "shell.execute_reply.started": "2021-12-10T17:05:31.137574Z"
    },
    "papermill": {
     "duration": 0.061818,
     "end_time": "2021-12-10T17:50:21.688826",
     "exception": false,
     "start_time": "2021-12-10T17:50:21.627008",
     "status": "completed"
    },
    "tags": []
   },
   "outputs": [
    {
     "data": {
      "text/html": [
       "<div>\n",
       "<style scoped>\n",
       "    .dataframe tbody tr th:only-of-type {\n",
       "        vertical-align: middle;\n",
       "    }\n",
       "\n",
       "    .dataframe tbody tr th {\n",
       "        vertical-align: top;\n",
       "    }\n",
       "\n",
       "    .dataframe thead th {\n",
       "        text-align: right;\n",
       "    }\n",
       "</style>\n",
       "<table border=\"1\" class=\"dataframe\">\n",
       "  <thead>\n",
       "    <tr style=\"text-align: right;\">\n",
       "      <th></th>\n",
       "      <th>Unnamed: 0</th>\n",
       "      <th>00</th>\n",
       "      <th>000</th>\n",
       "      <th>10</th>\n",
       "      <th>100</th>\n",
       "      <th>11</th>\n",
       "      <th>12</th>\n",
       "      <th>13</th>\n",
       "      <th>13th</th>\n",
       "      <th>14</th>\n",
       "      <th>...</th>\n",
       "      <th>young</th>\n",
       "      <th>younger</th>\n",
       "      <th>youngest</th>\n",
       "      <th>youth</th>\n",
       "      <th>zane</th>\n",
       "      <th>zero</th>\n",
       "      <th>zizek</th>\n",
       "      <th>zombi</th>\n",
       "      <th>zone</th>\n",
       "      <th>zoom</th>\n",
       "    </tr>\n",
       "  </thead>\n",
       "  <tbody>\n",
       "    <tr>\n",
       "      <th>0</th>\n",
       "      <td>0</td>\n",
       "      <td>0</td>\n",
       "      <td>0</td>\n",
       "      <td>1</td>\n",
       "      <td>0</td>\n",
       "      <td>1</td>\n",
       "      <td>1</td>\n",
       "      <td>1</td>\n",
       "      <td>0</td>\n",
       "      <td>1</td>\n",
       "      <td>...</td>\n",
       "      <td>0</td>\n",
       "      <td>0</td>\n",
       "      <td>0</td>\n",
       "      <td>0</td>\n",
       "      <td>0</td>\n",
       "      <td>0</td>\n",
       "      <td>0</td>\n",
       "      <td>0</td>\n",
       "      <td>0</td>\n",
       "      <td>0</td>\n",
       "    </tr>\n",
       "    <tr>\n",
       "      <th>1</th>\n",
       "      <td>1</td>\n",
       "      <td>0</td>\n",
       "      <td>0</td>\n",
       "      <td>0</td>\n",
       "      <td>0</td>\n",
       "      <td>0</td>\n",
       "      <td>0</td>\n",
       "      <td>0</td>\n",
       "      <td>0</td>\n",
       "      <td>0</td>\n",
       "      <td>...</td>\n",
       "      <td>0</td>\n",
       "      <td>0</td>\n",
       "      <td>0</td>\n",
       "      <td>0</td>\n",
       "      <td>0</td>\n",
       "      <td>0</td>\n",
       "      <td>0</td>\n",
       "      <td>0</td>\n",
       "      <td>0</td>\n",
       "      <td>0</td>\n",
       "    </tr>\n",
       "    <tr>\n",
       "      <th>2</th>\n",
       "      <td>2</td>\n",
       "      <td>0</td>\n",
       "      <td>0</td>\n",
       "      <td>0</td>\n",
       "      <td>0</td>\n",
       "      <td>0</td>\n",
       "      <td>0</td>\n",
       "      <td>0</td>\n",
       "      <td>0</td>\n",
       "      <td>0</td>\n",
       "      <td>...</td>\n",
       "      <td>0</td>\n",
       "      <td>0</td>\n",
       "      <td>0</td>\n",
       "      <td>0</td>\n",
       "      <td>0</td>\n",
       "      <td>0</td>\n",
       "      <td>0</td>\n",
       "      <td>0</td>\n",
       "      <td>0</td>\n",
       "      <td>0</td>\n",
       "    </tr>\n",
       "    <tr>\n",
       "      <th>3</th>\n",
       "      <td>3</td>\n",
       "      <td>0</td>\n",
       "      <td>0</td>\n",
       "      <td>0</td>\n",
       "      <td>0</td>\n",
       "      <td>0</td>\n",
       "      <td>0</td>\n",
       "      <td>0</td>\n",
       "      <td>0</td>\n",
       "      <td>0</td>\n",
       "      <td>...</td>\n",
       "      <td>0</td>\n",
       "      <td>0</td>\n",
       "      <td>0</td>\n",
       "      <td>0</td>\n",
       "      <td>0</td>\n",
       "      <td>0</td>\n",
       "      <td>0</td>\n",
       "      <td>0</td>\n",
       "      <td>0</td>\n",
       "      <td>0</td>\n",
       "    </tr>\n",
       "    <tr>\n",
       "      <th>4</th>\n",
       "      <td>4</td>\n",
       "      <td>0</td>\n",
       "      <td>0</td>\n",
       "      <td>0</td>\n",
       "      <td>0</td>\n",
       "      <td>0</td>\n",
       "      <td>0</td>\n",
       "      <td>0</td>\n",
       "      <td>0</td>\n",
       "      <td>0</td>\n",
       "      <td>...</td>\n",
       "      <td>0</td>\n",
       "      <td>0</td>\n",
       "      <td>0</td>\n",
       "      <td>0</td>\n",
       "      <td>0</td>\n",
       "      <td>0</td>\n",
       "      <td>0</td>\n",
       "      <td>0</td>\n",
       "      <td>0</td>\n",
       "      <td>0</td>\n",
       "    </tr>\n",
       "    <tr>\n",
       "      <th>5</th>\n",
       "      <td>5</td>\n",
       "      <td>0</td>\n",
       "      <td>0</td>\n",
       "      <td>0</td>\n",
       "      <td>0</td>\n",
       "      <td>0</td>\n",
       "      <td>0</td>\n",
       "      <td>0</td>\n",
       "      <td>0</td>\n",
       "      <td>0</td>\n",
       "      <td>...</td>\n",
       "      <td>0</td>\n",
       "      <td>0</td>\n",
       "      <td>0</td>\n",
       "      <td>0</td>\n",
       "      <td>0</td>\n",
       "      <td>0</td>\n",
       "      <td>0</td>\n",
       "      <td>0</td>\n",
       "      <td>0</td>\n",
       "      <td>0</td>\n",
       "    </tr>\n",
       "    <tr>\n",
       "      <th>6</th>\n",
       "      <td>6</td>\n",
       "      <td>0</td>\n",
       "      <td>0</td>\n",
       "      <td>0</td>\n",
       "      <td>0</td>\n",
       "      <td>0</td>\n",
       "      <td>0</td>\n",
       "      <td>0</td>\n",
       "      <td>0</td>\n",
       "      <td>0</td>\n",
       "      <td>...</td>\n",
       "      <td>0</td>\n",
       "      <td>0</td>\n",
       "      <td>0</td>\n",
       "      <td>0</td>\n",
       "      <td>0</td>\n",
       "      <td>0</td>\n",
       "      <td>0</td>\n",
       "      <td>0</td>\n",
       "      <td>0</td>\n",
       "      <td>0</td>\n",
       "    </tr>\n",
       "    <tr>\n",
       "      <th>7</th>\n",
       "      <td>7</td>\n",
       "      <td>0</td>\n",
       "      <td>0</td>\n",
       "      <td>0</td>\n",
       "      <td>0</td>\n",
       "      <td>0</td>\n",
       "      <td>0</td>\n",
       "      <td>0</td>\n",
       "      <td>0</td>\n",
       "      <td>0</td>\n",
       "      <td>...</td>\n",
       "      <td>0</td>\n",
       "      <td>0</td>\n",
       "      <td>0</td>\n",
       "      <td>0</td>\n",
       "      <td>0</td>\n",
       "      <td>0</td>\n",
       "      <td>0</td>\n",
       "      <td>0</td>\n",
       "      <td>0</td>\n",
       "      <td>0</td>\n",
       "    </tr>\n",
       "    <tr>\n",
       "      <th>8</th>\n",
       "      <td>8</td>\n",
       "      <td>0</td>\n",
       "      <td>0</td>\n",
       "      <td>0</td>\n",
       "      <td>0</td>\n",
       "      <td>0</td>\n",
       "      <td>0</td>\n",
       "      <td>0</td>\n",
       "      <td>0</td>\n",
       "      <td>0</td>\n",
       "      <td>...</td>\n",
       "      <td>0</td>\n",
       "      <td>0</td>\n",
       "      <td>0</td>\n",
       "      <td>0</td>\n",
       "      <td>0</td>\n",
       "      <td>0</td>\n",
       "      <td>0</td>\n",
       "      <td>0</td>\n",
       "      <td>0</td>\n",
       "      <td>0</td>\n",
       "    </tr>\n",
       "    <tr>\n",
       "      <th>9</th>\n",
       "      <td>9</td>\n",
       "      <td>0</td>\n",
       "      <td>0</td>\n",
       "      <td>1</td>\n",
       "      <td>0</td>\n",
       "      <td>0</td>\n",
       "      <td>0</td>\n",
       "      <td>0</td>\n",
       "      <td>0</td>\n",
       "      <td>0</td>\n",
       "      <td>...</td>\n",
       "      <td>0</td>\n",
       "      <td>0</td>\n",
       "      <td>0</td>\n",
       "      <td>0</td>\n",
       "      <td>0</td>\n",
       "      <td>0</td>\n",
       "      <td>0</td>\n",
       "      <td>0</td>\n",
       "      <td>0</td>\n",
       "      <td>0</td>\n",
       "    </tr>\n",
       "  </tbody>\n",
       "</table>\n",
       "<p>10 rows × 5001 columns</p>\n",
       "</div>"
      ],
      "text/plain": [
       "   Unnamed: 0  00  000  10  100  11  12  13  13th  14  ...  young  younger  \\\n",
       "0           0   0    0   1    0   1   1   1     0   1  ...      0        0   \n",
       "1           1   0    0   0    0   0   0   0     0   0  ...      0        0   \n",
       "2           2   0    0   0    0   0   0   0     0   0  ...      0        0   \n",
       "3           3   0    0   0    0   0   0   0     0   0  ...      0        0   \n",
       "4           4   0    0   0    0   0   0   0     0   0  ...      0        0   \n",
       "5           5   0    0   0    0   0   0   0     0   0  ...      0        0   \n",
       "6           6   0    0   0    0   0   0   0     0   0  ...      0        0   \n",
       "7           7   0    0   0    0   0   0   0     0   0  ...      0        0   \n",
       "8           8   0    0   0    0   0   0   0     0   0  ...      0        0   \n",
       "9           9   0    0   1    0   0   0   0     0   0  ...      0        0   \n",
       "\n",
       "   youngest  youth  zane  zero  zizek  zombi  zone  zoom  \n",
       "0         0      0     0     0      0      0     0     0  \n",
       "1         0      0     0     0      0      0     0     0  \n",
       "2         0      0     0     0      0      0     0     0  \n",
       "3         0      0     0     0      0      0     0     0  \n",
       "4         0      0     0     0      0      0     0     0  \n",
       "5         0      0     0     0      0      0     0     0  \n",
       "6         0      0     0     0      0      0     0     0  \n",
       "7         0      0     0     0      0      0     0     0  \n",
       "8         0      0     0     0      0      0     0     0  \n",
       "9         0      0     0     0      0      0     0     0  \n",
       "\n",
       "[10 rows x 5001 columns]"
      ]
     },
     "execution_count": 3,
     "metadata": {},
     "output_type": "execute_result"
    }
   ],
   "source": [
    "df.head(10)"
   ]
  },
  {
   "cell_type": "code",
   "execution_count": 4,
   "id": "695550b3",
   "metadata": {
    "execution": {
     "iopub.execute_input": "2021-12-10T17:50:21.751822Z",
     "iopub.status.busy": "2021-12-10T17:50:21.750939Z",
     "iopub.status.idle": "2021-12-10T17:50:22.056661Z",
     "shell.execute_reply": "2021-12-10T17:50:22.055923Z",
     "shell.execute_reply.started": "2021-12-10T17:05:40.855870Z"
    },
    "papermill": {
     "duration": 0.338842,
     "end_time": "2021-12-10T17:50:22.056826",
     "exception": false,
     "start_time": "2021-12-10T17:50:21.717984",
     "status": "completed"
    },
    "tags": []
   },
   "outputs": [],
   "source": [
    "df.drop(labels = [\"Unnamed: 0\"], axis = 1, inplace = True)"
   ]
  },
  {
   "cell_type": "code",
   "execution_count": 5,
   "id": "9f99ff27",
   "metadata": {
    "execution": {
     "iopub.execute_input": "2021-12-10T17:50:22.106024Z",
     "iopub.status.busy": "2021-12-10T17:50:22.105070Z",
     "iopub.status.idle": "2021-12-10T17:50:22.122891Z",
     "shell.execute_reply": "2021-12-10T17:50:22.123486Z",
     "shell.execute_reply.started": "2021-12-10T17:05:51.451686Z"
    },
    "papermill": {
     "duration": 0.044039,
     "end_time": "2021-12-10T17:50:22.123660",
     "exception": false,
     "start_time": "2021-12-10T17:50:22.079621",
     "status": "completed"
    },
    "tags": []
   },
   "outputs": [
    {
     "data": {
      "text/html": [
       "<div>\n",
       "<style scoped>\n",
       "    .dataframe tbody tr th:only-of-type {\n",
       "        vertical-align: middle;\n",
       "    }\n",
       "\n",
       "    .dataframe tbody tr th {\n",
       "        vertical-align: top;\n",
       "    }\n",
       "\n",
       "    .dataframe thead th {\n",
       "        text-align: right;\n",
       "    }\n",
       "</style>\n",
       "<table border=\"1\" class=\"dataframe\">\n",
       "  <thead>\n",
       "    <tr style=\"text-align: right;\">\n",
       "      <th></th>\n",
       "      <th>00</th>\n",
       "      <th>000</th>\n",
       "      <th>10</th>\n",
       "      <th>100</th>\n",
       "      <th>11</th>\n",
       "      <th>12</th>\n",
       "      <th>13</th>\n",
       "      <th>13th</th>\n",
       "      <th>14</th>\n",
       "      <th>15</th>\n",
       "      <th>...</th>\n",
       "      <th>young</th>\n",
       "      <th>younger</th>\n",
       "      <th>youngest</th>\n",
       "      <th>youth</th>\n",
       "      <th>zane</th>\n",
       "      <th>zero</th>\n",
       "      <th>zizek</th>\n",
       "      <th>zombi</th>\n",
       "      <th>zone</th>\n",
       "      <th>zoom</th>\n",
       "    </tr>\n",
       "  </thead>\n",
       "  <tbody>\n",
       "    <tr>\n",
       "      <th>0</th>\n",
       "      <td>0</td>\n",
       "      <td>0</td>\n",
       "      <td>1</td>\n",
       "      <td>0</td>\n",
       "      <td>1</td>\n",
       "      <td>1</td>\n",
       "      <td>1</td>\n",
       "      <td>0</td>\n",
       "      <td>1</td>\n",
       "      <td>1</td>\n",
       "      <td>...</td>\n",
       "      <td>0</td>\n",
       "      <td>0</td>\n",
       "      <td>0</td>\n",
       "      <td>0</td>\n",
       "      <td>0</td>\n",
       "      <td>0</td>\n",
       "      <td>0</td>\n",
       "      <td>0</td>\n",
       "      <td>0</td>\n",
       "      <td>0</td>\n",
       "    </tr>\n",
       "    <tr>\n",
       "      <th>1</th>\n",
       "      <td>0</td>\n",
       "      <td>0</td>\n",
       "      <td>0</td>\n",
       "      <td>0</td>\n",
       "      <td>0</td>\n",
       "      <td>0</td>\n",
       "      <td>0</td>\n",
       "      <td>0</td>\n",
       "      <td>0</td>\n",
       "      <td>0</td>\n",
       "      <td>...</td>\n",
       "      <td>0</td>\n",
       "      <td>0</td>\n",
       "      <td>0</td>\n",
       "      <td>0</td>\n",
       "      <td>0</td>\n",
       "      <td>0</td>\n",
       "      <td>0</td>\n",
       "      <td>0</td>\n",
       "      <td>0</td>\n",
       "      <td>0</td>\n",
       "    </tr>\n",
       "    <tr>\n",
       "      <th>2</th>\n",
       "      <td>0</td>\n",
       "      <td>0</td>\n",
       "      <td>0</td>\n",
       "      <td>0</td>\n",
       "      <td>0</td>\n",
       "      <td>0</td>\n",
       "      <td>0</td>\n",
       "      <td>0</td>\n",
       "      <td>0</td>\n",
       "      <td>0</td>\n",
       "      <td>...</td>\n",
       "      <td>0</td>\n",
       "      <td>0</td>\n",
       "      <td>0</td>\n",
       "      <td>0</td>\n",
       "      <td>0</td>\n",
       "      <td>0</td>\n",
       "      <td>0</td>\n",
       "      <td>0</td>\n",
       "      <td>0</td>\n",
       "      <td>0</td>\n",
       "    </tr>\n",
       "    <tr>\n",
       "      <th>3</th>\n",
       "      <td>0</td>\n",
       "      <td>0</td>\n",
       "      <td>0</td>\n",
       "      <td>0</td>\n",
       "      <td>0</td>\n",
       "      <td>0</td>\n",
       "      <td>0</td>\n",
       "      <td>0</td>\n",
       "      <td>0</td>\n",
       "      <td>0</td>\n",
       "      <td>...</td>\n",
       "      <td>0</td>\n",
       "      <td>0</td>\n",
       "      <td>0</td>\n",
       "      <td>0</td>\n",
       "      <td>0</td>\n",
       "      <td>0</td>\n",
       "      <td>0</td>\n",
       "      <td>0</td>\n",
       "      <td>0</td>\n",
       "      <td>0</td>\n",
       "    </tr>\n",
       "    <tr>\n",
       "      <th>4</th>\n",
       "      <td>0</td>\n",
       "      <td>0</td>\n",
       "      <td>0</td>\n",
       "      <td>0</td>\n",
       "      <td>0</td>\n",
       "      <td>0</td>\n",
       "      <td>0</td>\n",
       "      <td>0</td>\n",
       "      <td>0</td>\n",
       "      <td>0</td>\n",
       "      <td>...</td>\n",
       "      <td>0</td>\n",
       "      <td>0</td>\n",
       "      <td>0</td>\n",
       "      <td>0</td>\n",
       "      <td>0</td>\n",
       "      <td>0</td>\n",
       "      <td>0</td>\n",
       "      <td>0</td>\n",
       "      <td>0</td>\n",
       "      <td>0</td>\n",
       "    </tr>\n",
       "    <tr>\n",
       "      <th>5</th>\n",
       "      <td>0</td>\n",
       "      <td>0</td>\n",
       "      <td>0</td>\n",
       "      <td>0</td>\n",
       "      <td>0</td>\n",
       "      <td>0</td>\n",
       "      <td>0</td>\n",
       "      <td>0</td>\n",
       "      <td>0</td>\n",
       "      <td>0</td>\n",
       "      <td>...</td>\n",
       "      <td>0</td>\n",
       "      <td>0</td>\n",
       "      <td>0</td>\n",
       "      <td>0</td>\n",
       "      <td>0</td>\n",
       "      <td>0</td>\n",
       "      <td>0</td>\n",
       "      <td>0</td>\n",
       "      <td>0</td>\n",
       "      <td>0</td>\n",
       "    </tr>\n",
       "    <tr>\n",
       "      <th>6</th>\n",
       "      <td>0</td>\n",
       "      <td>0</td>\n",
       "      <td>0</td>\n",
       "      <td>0</td>\n",
       "      <td>0</td>\n",
       "      <td>0</td>\n",
       "      <td>0</td>\n",
       "      <td>0</td>\n",
       "      <td>0</td>\n",
       "      <td>0</td>\n",
       "      <td>...</td>\n",
       "      <td>0</td>\n",
       "      <td>0</td>\n",
       "      <td>0</td>\n",
       "      <td>0</td>\n",
       "      <td>0</td>\n",
       "      <td>0</td>\n",
       "      <td>0</td>\n",
       "      <td>0</td>\n",
       "      <td>0</td>\n",
       "      <td>0</td>\n",
       "    </tr>\n",
       "    <tr>\n",
       "      <th>7</th>\n",
       "      <td>0</td>\n",
       "      <td>0</td>\n",
       "      <td>0</td>\n",
       "      <td>0</td>\n",
       "      <td>0</td>\n",
       "      <td>0</td>\n",
       "      <td>0</td>\n",
       "      <td>0</td>\n",
       "      <td>0</td>\n",
       "      <td>0</td>\n",
       "      <td>...</td>\n",
       "      <td>0</td>\n",
       "      <td>0</td>\n",
       "      <td>0</td>\n",
       "      <td>0</td>\n",
       "      <td>0</td>\n",
       "      <td>0</td>\n",
       "      <td>0</td>\n",
       "      <td>0</td>\n",
       "      <td>0</td>\n",
       "      <td>0</td>\n",
       "    </tr>\n",
       "    <tr>\n",
       "      <th>8</th>\n",
       "      <td>0</td>\n",
       "      <td>0</td>\n",
       "      <td>0</td>\n",
       "      <td>0</td>\n",
       "      <td>0</td>\n",
       "      <td>0</td>\n",
       "      <td>0</td>\n",
       "      <td>0</td>\n",
       "      <td>0</td>\n",
       "      <td>0</td>\n",
       "      <td>...</td>\n",
       "      <td>0</td>\n",
       "      <td>0</td>\n",
       "      <td>0</td>\n",
       "      <td>0</td>\n",
       "      <td>0</td>\n",
       "      <td>0</td>\n",
       "      <td>0</td>\n",
       "      <td>0</td>\n",
       "      <td>0</td>\n",
       "      <td>0</td>\n",
       "    </tr>\n",
       "    <tr>\n",
       "      <th>9</th>\n",
       "      <td>0</td>\n",
       "      <td>0</td>\n",
       "      <td>1</td>\n",
       "      <td>0</td>\n",
       "      <td>0</td>\n",
       "      <td>0</td>\n",
       "      <td>0</td>\n",
       "      <td>0</td>\n",
       "      <td>0</td>\n",
       "      <td>0</td>\n",
       "      <td>...</td>\n",
       "      <td>0</td>\n",
       "      <td>0</td>\n",
       "      <td>0</td>\n",
       "      <td>0</td>\n",
       "      <td>0</td>\n",
       "      <td>0</td>\n",
       "      <td>0</td>\n",
       "      <td>0</td>\n",
       "      <td>0</td>\n",
       "      <td>0</td>\n",
       "    </tr>\n",
       "  </tbody>\n",
       "</table>\n",
       "<p>10 rows × 5000 columns</p>\n",
       "</div>"
      ],
      "text/plain": [
       "   00  000  10  100  11  12  13  13th  14  15  ...  young  younger  youngest  \\\n",
       "0   0    0   1    0   1   1   1     0   1   1  ...      0        0         0   \n",
       "1   0    0   0    0   0   0   0     0   0   0  ...      0        0         0   \n",
       "2   0    0   0    0   0   0   0     0   0   0  ...      0        0         0   \n",
       "3   0    0   0    0   0   0   0     0   0   0  ...      0        0         0   \n",
       "4   0    0   0    0   0   0   0     0   0   0  ...      0        0         0   \n",
       "5   0    0   0    0   0   0   0     0   0   0  ...      0        0         0   \n",
       "6   0    0   0    0   0   0   0     0   0   0  ...      0        0         0   \n",
       "7   0    0   0    0   0   0   0     0   0   0  ...      0        0         0   \n",
       "8   0    0   0    0   0   0   0     0   0   0  ...      0        0         0   \n",
       "9   0    0   1    0   0   0   0     0   0   0  ...      0        0         0   \n",
       "\n",
       "   youth  zane  zero  zizek  zombi  zone  zoom  \n",
       "0      0     0     0      0      0     0     0  \n",
       "1      0     0     0      0      0     0     0  \n",
       "2      0     0     0      0      0     0     0  \n",
       "3      0     0     0      0      0     0     0  \n",
       "4      0     0     0      0      0     0     0  \n",
       "5      0     0     0      0      0     0     0  \n",
       "6      0     0     0      0      0     0     0  \n",
       "7      0     0     0      0      0     0     0  \n",
       "8      0     0     0      0      0     0     0  \n",
       "9      0     0     0      0      0     0     0  \n",
       "\n",
       "[10 rows x 5000 columns]"
      ]
     },
     "execution_count": 5,
     "metadata": {},
     "output_type": "execute_result"
    }
   ],
   "source": [
    "df.head(10)"
   ]
  },
  {
   "cell_type": "markdown",
   "id": "ed8c0eda",
   "metadata": {
    "papermill": {
     "duration": 0.024177,
     "end_time": "2021-12-10T17:50:22.170473",
     "exception": false,
     "start_time": "2021-12-10T17:50:22.146296",
     "status": "completed"
    },
    "tags": []
   },
   "source": [
    "<h2> Train-Validation sets </h2>"
   ]
  },
  {
   "cell_type": "code",
   "execution_count": 6,
   "id": "6430d2c7",
   "metadata": {
    "execution": {
     "iopub.execute_input": "2021-12-10T17:50:22.220052Z",
     "iopub.status.busy": "2021-12-10T17:50:22.219094Z",
     "iopub.status.idle": "2021-12-10T17:50:22.607647Z",
     "shell.execute_reply": "2021-12-10T17:50:22.608130Z",
     "shell.execute_reply.started": "2021-12-10T17:06:17.442032Z"
    },
    "papermill": {
     "duration": 0.415016,
     "end_time": "2021-12-10T17:50:22.608327",
     "exception": false,
     "start_time": "2021-12-10T17:50:22.193311",
     "status": "completed"
    },
    "tags": []
   },
   "outputs": [],
   "source": [
    "X = df.drop(labels = [\"sentiment\"], axis = 1)\n",
    "y = df['sentiment']"
   ]
  },
  {
   "cell_type": "code",
   "execution_count": 7,
   "id": "58b74994",
   "metadata": {
    "execution": {
     "iopub.execute_input": "2021-12-10T17:50:22.657642Z",
     "iopub.status.busy": "2021-12-10T17:50:22.656663Z",
     "iopub.status.idle": "2021-12-10T17:50:23.570150Z",
     "shell.execute_reply": "2021-12-10T17:50:23.569613Z",
     "shell.execute_reply.started": "2021-12-10T17:08:28.393654Z"
    },
    "papermill": {
     "duration": 0.939196,
     "end_time": "2021-12-10T17:50:23.570330",
     "exception": false,
     "start_time": "2021-12-10T17:50:22.631134",
     "status": "completed"
    },
    "tags": []
   },
   "outputs": [],
   "source": [
    "X_train, X_test, y_train, y_test = train_test_split(X, y, test_size = 0.20, shuffle = True)"
   ]
  },
  {
   "cell_type": "markdown",
   "id": "cbfdda76",
   "metadata": {
    "papermill": {
     "duration": 0.022471,
     "end_time": "2021-12-10T17:50:23.615619",
     "exception": false,
     "start_time": "2021-12-10T17:50:23.593148",
     "status": "completed"
    },
    "tags": []
   },
   "source": [
    "<h2> Train Classifier </h2>\n",
    "<p> Here, we will be using Multinomial Naive Bayes Classifier for training the data </p>"
   ]
  },
  {
   "cell_type": "code",
   "execution_count": 8,
   "id": "a7ba63b2",
   "metadata": {
    "execution": {
     "iopub.execute_input": "2021-12-10T17:50:23.664945Z",
     "iopub.status.busy": "2021-12-10T17:50:23.663975Z",
     "iopub.status.idle": "2021-12-10T17:50:24.052708Z",
     "shell.execute_reply": "2021-12-10T17:50:24.052025Z",
     "shell.execute_reply.started": "2021-12-10T17:08:35.343808Z"
    },
    "papermill": {
     "duration": 0.414419,
     "end_time": "2021-12-10T17:50:24.052850",
     "exception": false,
     "start_time": "2021-12-10T17:50:23.638431",
     "status": "completed"
    },
    "tags": []
   },
   "outputs": [
    {
     "data": {
      "text/plain": [
       "MultinomialNB()"
      ]
     },
     "execution_count": 8,
     "metadata": {},
     "output_type": "execute_result"
    }
   ],
   "source": [
    "model = MultinomialNB()\n",
    "\n",
    "model.fit(X_train, y_train)"
   ]
  },
  {
   "cell_type": "markdown",
   "id": "131e71fc",
   "metadata": {
    "papermill": {
     "duration": 0.022892,
     "end_time": "2021-12-10T17:50:24.099064",
     "exception": false,
     "start_time": "2021-12-10T17:50:24.076172",
     "status": "completed"
    },
    "tags": []
   },
   "source": [
    "<h2> Make predictions on validation set</h2>"
   ]
  },
  {
   "cell_type": "code",
   "execution_count": 9,
   "id": "ad4ba84a",
   "metadata": {
    "execution": {
     "iopub.execute_input": "2021-12-10T17:50:24.179539Z",
     "iopub.status.busy": "2021-12-10T17:50:24.174621Z",
     "iopub.status.idle": "2021-12-10T17:50:24.558542Z",
     "shell.execute_reply": "2021-12-10T17:50:24.559444Z",
     "shell.execute_reply.started": "2021-12-10T17:08:56.702671Z"
    },
    "papermill": {
     "duration": 0.436889,
     "end_time": "2021-12-10T17:50:24.559727",
     "exception": false,
     "start_time": "2021-12-10T17:50:24.122838",
     "status": "completed"
    },
    "tags": []
   },
   "outputs": [
    {
     "name": "stdout",
     "output_type": "stream",
     "text": [
      "              precision    recall  f1-score   support\n",
      "\n",
      "           0       0.84      0.86      0.85      2506\n",
      "           1       0.86      0.84      0.85      2494\n",
      "\n",
      "    accuracy                           0.85      5000\n",
      "   macro avg       0.85      0.85      0.85      5000\n",
      "weighted avg       0.85      0.85      0.85      5000\n",
      "\n"
     ]
    }
   ],
   "source": [
    "predictions = model.predict(X_test)\n",
    "\n",
    "print(classification_report(y_test, predictions))"
   ]
  },
  {
   "cell_type": "code",
   "execution_count": 10,
   "id": "7a84c463",
   "metadata": {
    "execution": {
     "iopub.execute_input": "2021-12-10T17:50:24.656992Z",
     "iopub.status.busy": "2021-12-10T17:50:24.656356Z",
     "iopub.status.idle": "2021-12-10T17:50:24.660141Z",
     "shell.execute_reply": "2021-12-10T17:50:24.660650Z",
     "shell.execute_reply.started": "2021-12-10T17:10:01.947607Z"
    },
    "papermill": {
     "duration": 0.055423,
     "end_time": "2021-12-10T17:50:24.660834",
     "exception": false,
     "start_time": "2021-12-10T17:50:24.605411",
     "status": "completed"
    },
    "tags": []
   },
   "outputs": [
    {
     "name": "stdout",
     "output_type": "stream",
     "text": [
      "0.8494\n"
     ]
    }
   ],
   "source": [
    "print(accuracy_score(y_test, predictions))"
   ]
  },
  {
   "cell_type": "markdown",
   "id": "1d8fba45",
   "metadata": {
    "papermill": {
     "duration": 0.024982,
     "end_time": "2021-12-10T17:50:24.710176",
     "exception": false,
     "start_time": "2021-12-10T17:50:24.685194",
     "status": "completed"
    },
    "tags": []
   },
   "source": [
    "<h2> Train Model Using Whole data </h2>"
   ]
  },
  {
   "cell_type": "code",
   "execution_count": 11,
   "id": "0767e663",
   "metadata": {
    "execution": {
     "iopub.execute_input": "2021-12-10T17:50:24.761256Z",
     "iopub.status.busy": "2021-12-10T17:50:24.760257Z",
     "iopub.status.idle": "2021-12-10T17:50:25.229484Z",
     "shell.execute_reply": "2021-12-10T17:50:25.228957Z",
     "shell.execute_reply.started": "2021-12-10T17:11:19.604088Z"
    },
    "papermill": {
     "duration": 0.495949,
     "end_time": "2021-12-10T17:50:25.229646",
     "exception": false,
     "start_time": "2021-12-10T17:50:24.733697",
     "status": "completed"
    },
    "tags": []
   },
   "outputs": [
    {
     "data": {
      "text/plain": [
       "MultinomialNB()"
      ]
     },
     "execution_count": 11,
     "metadata": {},
     "output_type": "execute_result"
    }
   ],
   "source": [
    "model = MultinomialNB()\n",
    "\n",
    "model.fit(X, y)"
   ]
  },
  {
   "cell_type": "markdown",
   "id": "900e874b",
   "metadata": {
    "papermill": {
     "duration": 0.023698,
     "end_time": "2021-12-10T17:50:25.277479",
     "exception": false,
     "start_time": "2021-12-10T17:50:25.253781",
     "status": "completed"
    },
    "tags": []
   },
   "source": [
    "<h2> Testing on the whole test dataset </h2>"
   ]
  },
  {
   "cell_type": "code",
   "execution_count": 12,
   "id": "806f0582",
   "metadata": {
    "execution": {
     "iopub.execute_input": "2021-12-10T17:50:25.329923Z",
     "iopub.status.busy": "2021-12-10T17:50:25.328947Z",
     "iopub.status.idle": "2021-12-10T17:50:45.929205Z",
     "shell.execute_reply": "2021-12-10T17:50:45.929745Z",
     "shell.execute_reply.started": "2021-12-10T17:39:33.042854Z"
    },
    "papermill": {
     "duration": 20.628007,
     "end_time": "2021-12-10T17:50:45.929931",
     "exception": false,
     "start_time": "2021-12-10T17:50:25.301924",
     "status": "completed"
    },
    "tags": []
   },
   "outputs": [
    {
     "data": {
      "text/html": [
       "<div>\n",
       "<style scoped>\n",
       "    .dataframe tbody tr th:only-of-type {\n",
       "        vertical-align: middle;\n",
       "    }\n",
       "\n",
       "    .dataframe tbody tr th {\n",
       "        vertical-align: top;\n",
       "    }\n",
       "\n",
       "    .dataframe thead th {\n",
       "        text-align: right;\n",
       "    }\n",
       "</style>\n",
       "<table border=\"1\" class=\"dataframe\">\n",
       "  <thead>\n",
       "    <tr style=\"text-align: right;\">\n",
       "      <th></th>\n",
       "      <th>Unnamed: 0</th>\n",
       "      <th>00</th>\n",
       "      <th>000</th>\n",
       "      <th>10</th>\n",
       "      <th>100</th>\n",
       "      <th>11</th>\n",
       "      <th>12</th>\n",
       "      <th>13</th>\n",
       "      <th>13th</th>\n",
       "      <th>14</th>\n",
       "      <th>...</th>\n",
       "      <th>young</th>\n",
       "      <th>younger</th>\n",
       "      <th>youngest</th>\n",
       "      <th>youth</th>\n",
       "      <th>zane</th>\n",
       "      <th>zero</th>\n",
       "      <th>zizek</th>\n",
       "      <th>zombi</th>\n",
       "      <th>zone</th>\n",
       "      <th>zoom</th>\n",
       "    </tr>\n",
       "  </thead>\n",
       "  <tbody>\n",
       "    <tr>\n",
       "      <th>0</th>\n",
       "      <td>0</td>\n",
       "      <td>0</td>\n",
       "      <td>0</td>\n",
       "      <td>0</td>\n",
       "      <td>0</td>\n",
       "      <td>0</td>\n",
       "      <td>0</td>\n",
       "      <td>0</td>\n",
       "      <td>0</td>\n",
       "      <td>0</td>\n",
       "      <td>...</td>\n",
       "      <td>0</td>\n",
       "      <td>0</td>\n",
       "      <td>0</td>\n",
       "      <td>0</td>\n",
       "      <td>0</td>\n",
       "      <td>0</td>\n",
       "      <td>0</td>\n",
       "      <td>0</td>\n",
       "      <td>0</td>\n",
       "      <td>0</td>\n",
       "    </tr>\n",
       "    <tr>\n",
       "      <th>1</th>\n",
       "      <td>1</td>\n",
       "      <td>0</td>\n",
       "      <td>0</td>\n",
       "      <td>0</td>\n",
       "      <td>0</td>\n",
       "      <td>0</td>\n",
       "      <td>0</td>\n",
       "      <td>0</td>\n",
       "      <td>0</td>\n",
       "      <td>0</td>\n",
       "      <td>...</td>\n",
       "      <td>0</td>\n",
       "      <td>0</td>\n",
       "      <td>0</td>\n",
       "      <td>0</td>\n",
       "      <td>0</td>\n",
       "      <td>0</td>\n",
       "      <td>0</td>\n",
       "      <td>0</td>\n",
       "      <td>0</td>\n",
       "      <td>0</td>\n",
       "    </tr>\n",
       "    <tr>\n",
       "      <th>2</th>\n",
       "      <td>2</td>\n",
       "      <td>0</td>\n",
       "      <td>0</td>\n",
       "      <td>0</td>\n",
       "      <td>0</td>\n",
       "      <td>0</td>\n",
       "      <td>0</td>\n",
       "      <td>0</td>\n",
       "      <td>0</td>\n",
       "      <td>0</td>\n",
       "      <td>...</td>\n",
       "      <td>0</td>\n",
       "      <td>0</td>\n",
       "      <td>0</td>\n",
       "      <td>0</td>\n",
       "      <td>0</td>\n",
       "      <td>0</td>\n",
       "      <td>0</td>\n",
       "      <td>0</td>\n",
       "      <td>0</td>\n",
       "      <td>0</td>\n",
       "    </tr>\n",
       "    <tr>\n",
       "      <th>3</th>\n",
       "      <td>3</td>\n",
       "      <td>0</td>\n",
       "      <td>0</td>\n",
       "      <td>0</td>\n",
       "      <td>0</td>\n",
       "      <td>0</td>\n",
       "      <td>0</td>\n",
       "      <td>0</td>\n",
       "      <td>0</td>\n",
       "      <td>0</td>\n",
       "      <td>...</td>\n",
       "      <td>0</td>\n",
       "      <td>0</td>\n",
       "      <td>0</td>\n",
       "      <td>0</td>\n",
       "      <td>0</td>\n",
       "      <td>0</td>\n",
       "      <td>0</td>\n",
       "      <td>0</td>\n",
       "      <td>0</td>\n",
       "      <td>0</td>\n",
       "    </tr>\n",
       "    <tr>\n",
       "      <th>4</th>\n",
       "      <td>4</td>\n",
       "      <td>0</td>\n",
       "      <td>0</td>\n",
       "      <td>8</td>\n",
       "      <td>0</td>\n",
       "      <td>0</td>\n",
       "      <td>0</td>\n",
       "      <td>0</td>\n",
       "      <td>0</td>\n",
       "      <td>0</td>\n",
       "      <td>...</td>\n",
       "      <td>0</td>\n",
       "      <td>0</td>\n",
       "      <td>0</td>\n",
       "      <td>0</td>\n",
       "      <td>0</td>\n",
       "      <td>0</td>\n",
       "      <td>0</td>\n",
       "      <td>0</td>\n",
       "      <td>0</td>\n",
       "      <td>0</td>\n",
       "    </tr>\n",
       "  </tbody>\n",
       "</table>\n",
       "<p>5 rows × 5001 columns</p>\n",
       "</div>"
      ],
      "text/plain": [
       "   Unnamed: 0  00  000  10  100  11  12  13  13th  14  ...  young  younger  \\\n",
       "0           0   0    0   0    0   0   0   0     0   0  ...      0        0   \n",
       "1           1   0    0   0    0   0   0   0     0   0  ...      0        0   \n",
       "2           2   0    0   0    0   0   0   0     0   0  ...      0        0   \n",
       "3           3   0    0   0    0   0   0   0     0   0  ...      0        0   \n",
       "4           4   0    0   8    0   0   0   0     0   0  ...      0        0   \n",
       "\n",
       "   youngest  youth  zane  zero  zizek  zombi  zone  zoom  \n",
       "0         0      0     0     0      0      0     0     0  \n",
       "1         0      0     0     0      0      0     0     0  \n",
       "2         0      0     0     0      0      0     0     0  \n",
       "3         0      0     0     0      0      0     0     0  \n",
       "4         0      0     0     0      0      0     0     0  \n",
       "\n",
       "[5 rows x 5001 columns]"
      ]
     },
     "execution_count": 12,
     "metadata": {},
     "output_type": "execute_result"
    }
   ],
   "source": [
    "df_test = pd.read_csv(\"./test2.csv\")\n",
    "df_test.head(5)"
   ]
  },
  {
   "cell_type": "code",
   "execution_count": 13,
   "id": "552e8bdf",
   "metadata": {
    "execution": {
     "iopub.execute_input": "2021-12-10T17:50:45.985256Z",
     "iopub.status.busy": "2021-12-10T17:50:45.984533Z",
     "iopub.status.idle": "2021-12-10T17:50:46.369683Z",
     "shell.execute_reply": "2021-12-10T17:50:46.370190Z",
     "shell.execute_reply.started": "2021-12-10T17:40:28.092936Z"
    },
    "papermill": {
     "duration": 0.415217,
     "end_time": "2021-12-10T17:50:46.370393",
     "exception": false,
     "start_time": "2021-12-10T17:50:45.955176",
     "status": "completed"
    },
    "tags": []
   },
   "outputs": [],
   "source": [
    "df_test.drop(labels = [\"Unnamed: 0\"], axis = 1, inplace = True)"
   ]
  },
  {
   "cell_type": "code",
   "execution_count": 14,
   "id": "5981add2",
   "metadata": {
    "execution": {
     "iopub.execute_input": "2021-12-10T17:50:46.423735Z",
     "iopub.status.busy": "2021-12-10T17:50:46.423049Z",
     "iopub.status.idle": "2021-12-10T17:50:46.824311Z",
     "shell.execute_reply": "2021-12-10T17:50:46.825120Z",
     "shell.execute_reply.started": "2021-12-10T17:41:05.197758Z"
    },
    "papermill": {
     "duration": 0.430021,
     "end_time": "2021-12-10T17:50:46.825351",
     "exception": false,
     "start_time": "2021-12-10T17:50:46.395330",
     "status": "completed"
    },
    "tags": []
   },
   "outputs": [],
   "source": [
    "test_X = df_test.drop(labels = [\"sentiment\"], axis = 1)\n",
    "test_y = df_test['sentiment']"
   ]
  },
  {
   "cell_type": "code",
   "execution_count": 15,
   "id": "76ee8acd",
   "metadata": {
    "execution": {
     "iopub.execute_input": "2021-12-10T17:50:46.880430Z",
     "iopub.status.busy": "2021-12-10T17:50:46.879790Z",
     "iopub.status.idle": "2021-12-10T17:50:46.896712Z",
     "shell.execute_reply": "2021-12-10T17:50:46.896180Z",
     "shell.execute_reply.started": "2021-12-10T17:41:06.014129Z"
    },
    "papermill": {
     "duration": 0.045118,
     "end_time": "2021-12-10T17:50:46.896864",
     "exception": false,
     "start_time": "2021-12-10T17:50:46.851746",
     "status": "completed"
    },
    "tags": []
   },
   "outputs": [
    {
     "data": {
      "text/html": [
       "<div>\n",
       "<style scoped>\n",
       "    .dataframe tbody tr th:only-of-type {\n",
       "        vertical-align: middle;\n",
       "    }\n",
       "\n",
       "    .dataframe tbody tr th {\n",
       "        vertical-align: top;\n",
       "    }\n",
       "\n",
       "    .dataframe thead th {\n",
       "        text-align: right;\n",
       "    }\n",
       "</style>\n",
       "<table border=\"1\" class=\"dataframe\">\n",
       "  <thead>\n",
       "    <tr style=\"text-align: right;\">\n",
       "      <th></th>\n",
       "      <th>00</th>\n",
       "      <th>000</th>\n",
       "      <th>10</th>\n",
       "      <th>100</th>\n",
       "      <th>11</th>\n",
       "      <th>12</th>\n",
       "      <th>13</th>\n",
       "      <th>13th</th>\n",
       "      <th>14</th>\n",
       "      <th>15</th>\n",
       "      <th>...</th>\n",
       "      <th>young</th>\n",
       "      <th>younger</th>\n",
       "      <th>youngest</th>\n",
       "      <th>youth</th>\n",
       "      <th>zane</th>\n",
       "      <th>zero</th>\n",
       "      <th>zizek</th>\n",
       "      <th>zombi</th>\n",
       "      <th>zone</th>\n",
       "      <th>zoom</th>\n",
       "    </tr>\n",
       "  </thead>\n",
       "  <tbody>\n",
       "    <tr>\n",
       "      <th>0</th>\n",
       "      <td>0</td>\n",
       "      <td>0</td>\n",
       "      <td>0</td>\n",
       "      <td>0</td>\n",
       "      <td>0</td>\n",
       "      <td>0</td>\n",
       "      <td>0</td>\n",
       "      <td>0</td>\n",
       "      <td>0</td>\n",
       "      <td>0</td>\n",
       "      <td>...</td>\n",
       "      <td>0</td>\n",
       "      <td>0</td>\n",
       "      <td>0</td>\n",
       "      <td>0</td>\n",
       "      <td>0</td>\n",
       "      <td>0</td>\n",
       "      <td>0</td>\n",
       "      <td>0</td>\n",
       "      <td>0</td>\n",
       "      <td>0</td>\n",
       "    </tr>\n",
       "    <tr>\n",
       "      <th>1</th>\n",
       "      <td>0</td>\n",
       "      <td>0</td>\n",
       "      <td>0</td>\n",
       "      <td>0</td>\n",
       "      <td>0</td>\n",
       "      <td>0</td>\n",
       "      <td>0</td>\n",
       "      <td>0</td>\n",
       "      <td>0</td>\n",
       "      <td>0</td>\n",
       "      <td>...</td>\n",
       "      <td>0</td>\n",
       "      <td>0</td>\n",
       "      <td>0</td>\n",
       "      <td>0</td>\n",
       "      <td>0</td>\n",
       "      <td>0</td>\n",
       "      <td>0</td>\n",
       "      <td>0</td>\n",
       "      <td>0</td>\n",
       "      <td>0</td>\n",
       "    </tr>\n",
       "    <tr>\n",
       "      <th>2</th>\n",
       "      <td>0</td>\n",
       "      <td>0</td>\n",
       "      <td>0</td>\n",
       "      <td>0</td>\n",
       "      <td>0</td>\n",
       "      <td>0</td>\n",
       "      <td>0</td>\n",
       "      <td>0</td>\n",
       "      <td>0</td>\n",
       "      <td>0</td>\n",
       "      <td>...</td>\n",
       "      <td>0</td>\n",
       "      <td>0</td>\n",
       "      <td>0</td>\n",
       "      <td>0</td>\n",
       "      <td>0</td>\n",
       "      <td>0</td>\n",
       "      <td>0</td>\n",
       "      <td>0</td>\n",
       "      <td>0</td>\n",
       "      <td>0</td>\n",
       "    </tr>\n",
       "    <tr>\n",
       "      <th>3</th>\n",
       "      <td>0</td>\n",
       "      <td>0</td>\n",
       "      <td>0</td>\n",
       "      <td>0</td>\n",
       "      <td>0</td>\n",
       "      <td>0</td>\n",
       "      <td>0</td>\n",
       "      <td>0</td>\n",
       "      <td>0</td>\n",
       "      <td>0</td>\n",
       "      <td>...</td>\n",
       "      <td>0</td>\n",
       "      <td>0</td>\n",
       "      <td>0</td>\n",
       "      <td>0</td>\n",
       "      <td>0</td>\n",
       "      <td>0</td>\n",
       "      <td>0</td>\n",
       "      <td>0</td>\n",
       "      <td>0</td>\n",
       "      <td>0</td>\n",
       "    </tr>\n",
       "    <tr>\n",
       "      <th>4</th>\n",
       "      <td>0</td>\n",
       "      <td>0</td>\n",
       "      <td>8</td>\n",
       "      <td>0</td>\n",
       "      <td>0</td>\n",
       "      <td>0</td>\n",
       "      <td>0</td>\n",
       "      <td>0</td>\n",
       "      <td>0</td>\n",
       "      <td>0</td>\n",
       "      <td>...</td>\n",
       "      <td>0</td>\n",
       "      <td>0</td>\n",
       "      <td>0</td>\n",
       "      <td>0</td>\n",
       "      <td>0</td>\n",
       "      <td>0</td>\n",
       "      <td>0</td>\n",
       "      <td>0</td>\n",
       "      <td>0</td>\n",
       "      <td>0</td>\n",
       "    </tr>\n",
       "  </tbody>\n",
       "</table>\n",
       "<p>5 rows × 4999 columns</p>\n",
       "</div>"
      ],
      "text/plain": [
       "   00  000  10  100  11  12  13  13th  14  15  ...  young  younger  youngest  \\\n",
       "0   0    0   0    0   0   0   0     0   0   0  ...      0        0         0   \n",
       "1   0    0   0    0   0   0   0     0   0   0  ...      0        0         0   \n",
       "2   0    0   0    0   0   0   0     0   0   0  ...      0        0         0   \n",
       "3   0    0   0    0   0   0   0     0   0   0  ...      0        0         0   \n",
       "4   0    0   8    0   0   0   0     0   0   0  ...      0        0         0   \n",
       "\n",
       "   youth  zane  zero  zizek  zombi  zone  zoom  \n",
       "0      0     0     0      0      0     0     0  \n",
       "1      0     0     0      0      0     0     0  \n",
       "2      0     0     0      0      0     0     0  \n",
       "3      0     0     0      0      0     0     0  \n",
       "4      0     0     0      0      0     0     0  \n",
       "\n",
       "[5 rows x 4999 columns]"
      ]
     },
     "execution_count": 15,
     "metadata": {},
     "output_type": "execute_result"
    }
   ],
   "source": [
    "test_X.head()"
   ]
  },
  {
   "cell_type": "markdown",
   "id": "73bc8ac7",
   "metadata": {
    "papermill": {
     "duration": 0.025401,
     "end_time": "2021-12-10T17:50:46.948593",
     "exception": false,
     "start_time": "2021-12-10T17:50:46.923192",
     "status": "completed"
    },
    "tags": []
   },
   "source": [
    "<h2> Model predictions on test set </h2>"
   ]
  },
  {
   "cell_type": "code",
   "execution_count": 16,
   "id": "c2f3cfef",
   "metadata": {
    "execution": {
     "iopub.execute_input": "2021-12-10T17:50:47.003102Z",
     "iopub.status.busy": "2021-12-10T17:50:47.002469Z",
     "iopub.status.idle": "2021-12-10T17:50:47.763192Z",
     "shell.execute_reply": "2021-12-10T17:50:47.764070Z",
     "shell.execute_reply.started": "2021-12-10T17:41:50.868492Z"
    },
    "papermill": {
     "duration": 0.790247,
     "end_time": "2021-12-10T17:50:47.764389",
     "exception": false,
     "start_time": "2021-12-10T17:50:46.974142",
     "status": "completed"
    },
    "tags": []
   },
   "outputs": [],
   "source": [
    "predictions = model.predict(test_X)"
   ]
  },
  {
   "cell_type": "code",
   "execution_count": 17,
   "id": "09d53ed4",
   "metadata": {
    "execution": {
     "iopub.execute_input": "2021-12-10T17:50:47.872937Z",
     "iopub.status.busy": "2021-12-10T17:50:47.864990Z",
     "iopub.status.idle": "2021-12-10T17:50:47.904819Z",
     "shell.execute_reply": "2021-12-10T17:50:47.905342Z",
     "shell.execute_reply.started": "2021-12-10T17:42:14.723430Z"
    },
    "papermill": {
     "duration": 0.093182,
     "end_time": "2021-12-10T17:50:47.905513",
     "exception": false,
     "start_time": "2021-12-10T17:50:47.812331",
     "status": "completed"
    },
    "tags": []
   },
   "outputs": [
    {
     "name": "stdout",
     "output_type": "stream",
     "text": [
      "              precision    recall  f1-score   support\n",
      "\n",
      "           0       0.81      0.86      0.84     12500\n",
      "           1       0.86      0.80      0.83     12500\n",
      "\n",
      "    accuracy                           0.83     25000\n",
      "   macro avg       0.83      0.83      0.83     25000\n",
      "weighted avg       0.83      0.83      0.83     25000\n",
      "\n"
     ]
    }
   ],
   "source": [
    "print(classification_report(test_y, predictions))"
   ]
  },
  {
   "cell_type": "code",
   "execution_count": 18,
   "id": "7cb8b389",
   "metadata": {
    "execution": {
     "iopub.execute_input": "2021-12-10T17:50:47.977118Z",
     "iopub.status.busy": "2021-12-10T17:50:47.967488Z",
     "iopub.status.idle": "2021-12-10T17:50:47.980202Z",
     "shell.execute_reply": "2021-12-10T17:50:47.979534Z",
     "shell.execute_reply.started": "2021-12-10T17:45:38.050787Z"
    },
    "papermill": {
     "duration": 0.047739,
     "end_time": "2021-12-10T17:50:47.980351",
     "exception": false,
     "start_time": "2021-12-10T17:50:47.932612",
     "status": "completed"
    },
    "tags": []
   },
   "outputs": [],
   "source": [
    "#some helper functions\n",
    "#confusion matrix plotter\n",
    "def plot_matrix(y_test,predictions):\n",
    "    matrix=confusion_matrix(y_test,predictions)\n",
    "    matrix=matrix.transpose()\n",
    "    cm_df=pd.DataFrame(matrix,index=[\"Positive Review\",\"Negative Review\"],columns=[\"Positive Review\",\"Negative Review\"])\n",
    "    sns.heatmap(cm_df,annot_kws={\"size\":16},annot=True,fmt=\"d\")\n",
    "\n",
    "#roc curve plotter\n",
    "def plot_roc(y_test,predictions):\n",
    "    actual_vals=pd.DataFrame(pd.get_dummies(y_test))\n",
    "    predictions=pd.DataFrame(pd.get_dummies(predictions))\n",
    "    print('0: {}'.format(predictions[predictions[0]==1][0].sum()))\n",
    "    print('1 :{}'.format(predictions[predictions[1]==1][1].sum()))\n",
    "    predictions.head()\n",
    "    #compute roc curve and roc area for each curve\n",
    "    fpr=dict()\n",
    "    tpr=dict()\n",
    "    roc_auc=dict()\n",
    "    n_classes=2\n",
    "\n",
    "    #loop for each class\n",
    "    for i in range(n_classes):\n",
    "        fpr[i],tpr[i],_=roc_curve(actual_vals.iloc[:,i],predictions.iloc[:,i])\n",
    "        roc_auc[i]=auc(fpr[i],tpr[i])\n",
    "    #micro-average roc curve\n",
    "    fpr[\"micro\"],tpr[\"micro\"],_=roc_curve(actual_vals.to_numpy().ravel(),predictions.to_numpy().ravel())\n",
    "    roc_auc[\"micro\"]=auc(fpr[\"micro\"],tpr[\"micro\"])\n",
    "    \n",
    "    colors = [ 'darkorange', 'cornflowerblue']\n",
    "    #main plotter\n",
    "    lw=2\n",
    "    plt.figure(figsize=(10,8))\n",
    "    plt.plot(fpr[\"micro\"], tpr[\"micro\"],\n",
    "             label='micro-average ROC curve (area = {0:0.2f})'\n",
    "                   ''.format(roc_auc[\"micro\"]),\n",
    "             color='deeppink', linestyle=':', linewidth=4)\n",
    "    labels=['Positive Review','Negative Review']\n",
    "    for i,color in zip(range(n_classes),colors):\n",
    "         plt.plot(fpr[i], tpr[i], color=color,lw=lw,label='ROC curve of class {0} {name} (area = {area:0.2f})'\n",
    "                 ''.format(i, name=labels[i],area=roc_auc[i]))\n",
    "    plt.plot([0, 1], [0, 1], 'k--', lw=lw)\n",
    "    plt.xlim([0.0, 1.0])\n",
    "    plt.ylim([0.0, 1.05])\n",
    "    plt.xlabel('False Positive Rate')\n",
    "    plt.ylabel('True Positive Rate')\n",
    "    plt.title('ROC Curve for IMDB Review classification')\n",
    "    plt.legend(loc=\"lower right\")\n",
    "    plt.show()\n",
    "    \n"
   ]
  },
  {
   "cell_type": "markdown",
   "id": "d8b371e1",
   "metadata": {
    "papermill": {
     "duration": 0.025854,
     "end_time": "2021-12-10T17:50:48.031991",
     "exception": false,
     "start_time": "2021-12-10T17:50:48.006137",
     "status": "completed"
    },
    "tags": []
   },
   "source": [
    "<h2> Confusion Matrix </h2>"
   ]
  },
  {
   "cell_type": "code",
   "execution_count": 19,
   "id": "37d0abf0",
   "metadata": {
    "execution": {
     "iopub.execute_input": "2021-12-10T17:50:48.087625Z",
     "iopub.status.busy": "2021-12-10T17:50:48.086901Z",
     "iopub.status.idle": "2021-12-10T17:50:48.385569Z",
     "shell.execute_reply": "2021-12-10T17:50:48.386289Z",
     "shell.execute_reply.started": "2021-12-10T17:46:37.195159Z"
    },
    "papermill": {
     "duration": 0.328711,
     "end_time": "2021-12-10T17:50:48.386503",
     "exception": false,
     "start_time": "2021-12-10T17:50:48.057792",
     "status": "completed"
    },
    "tags": []
   },
   "outputs": [
    {
     "data": {
      "image/png": "[encoded data removed]",
      "text/plain": [
       "<Figure size 432x288 with 2 Axes>"
      ]
     },
     "metadata": {
      "needs_background": "light"
     },
     "output_type": "display_data"
    }
   ],
   "source": [
    "plot_matrix(predictions, test_y)"
   ]
  },
  {
   "cell_type": "markdown",
   "id": "de15d328",
   "metadata": {
    "papermill": {
     "duration": 0.026364,
     "end_time": "2021-12-10T17:50:48.440183",
     "exception": false,
     "start_time": "2021-12-10T17:50:48.413819",
     "status": "completed"
    },
    "tags": []
   },
   "source": [
    "<h2> ROC Curve </h2>"
   ]
  },
  {
   "cell_type": "code",
   "execution_count": 20,
   "id": "3b0c86d3",
   "metadata": {
    "execution": {
     "iopub.execute_input": "2021-12-10T17:50:48.497940Z",
     "iopub.status.busy": "2021-12-10T17:50:48.496953Z",
     "iopub.status.idle": "2021-12-10T17:50:48.702955Z",
     "shell.execute_reply": "2021-12-10T17:50:48.703485Z",
     "shell.execute_reply.started": "2021-12-10T17:47:31.587069Z"
    },
    "papermill": {
     "duration": 0.236767,
     "end_time": "2021-12-10T17:50:48.703725",
     "exception": false,
     "start_time": "2021-12-10T17:50:48.466958",
     "status": "completed"
    },
    "tags": []
   },
   "outputs": [
    {
     "name": "stdout",
     "output_type": "stream",
     "text": [
      "0: 12500\n",
      "1 :12500\n"
     ]
    },
    {
     "data": {
      "image/png": "[encoded data removed]",
      "text/plain": [
       "<Figure size 720x576 with 1 Axes>"
      ]
     },
     "metadata": {
      "needs_background": "light"
     },
     "output_type": "display_data"
    }
   ],
   "source": [
    "plot_roc(predictions, test_y)"
   ]
  },
  {
   "cell_type": "markdown",
   "id": "economic-teacher",
   "metadata": {
    "papermill": {
     "duration": 0.028621,
     "end_time": "2021-12-10T17:50:48.761555",
     "exception": false,
     "start_time": "2021-12-10T17:50:48.732934",
     "status": "completed"
    },
    "tags": []
   },
   "source": [
    "<p>More classifiers to be added soon </p>"
   ]
  },
  {
   "cell_type": "code",
   "execution_count": null,
   "id": "noted-smell",
   "metadata": {},
   "outputs": [],
   "source": []
  }
 ],
 "metadata": {
  "kernelspec": {
   "display_name": "Python 3",
   "language": "python",
   "name": "python3"
  },
  "language_info": {
   "codemirror_mode": {
    "name": "ipython",
    "version": 3
   },
   "file_extension": ".py",
   "mimetype": "text/x-python",
   "name": "python",
   "nbconvert_exporter": "python",
   "pygments_lexer": "ipython3",
   "version": "3.8.10"
  },
  "papermill": {
   "default_parameters": {},
   "duration": 61.014432,
   "end_time": "2021-12-10T17:50:49.600965",
   "environment_variables": {},
   "exception": null,
   "input_path": "__notebook__.ipynb",
   "output_path": "__notebook__.ipynb",
   "parameters": {},
   "start_time": "2021-12-10T17:49:48.586533",
   "version": "2.3.3"
  }
 },
 "nbformat": 4,
 "nbformat_minor": 5
}
